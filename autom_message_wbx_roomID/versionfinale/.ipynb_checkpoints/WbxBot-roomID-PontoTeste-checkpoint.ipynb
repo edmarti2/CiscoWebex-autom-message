{
 "cells": [
  {
   "cell_type": "code",
   "execution_count": null,
   "id": "2140ad5c",
   "metadata": {
    "scrolled": true
   },
   "outputs": [],
   "source": [
    "import urllib3\n",
    "import json\n",
    "import requests\n",
    "import time\n",
    "import requests\n",
    "import pandas as pd\n",
    "from tqdm import tqdm\n",
    "\n",
    "host = 'https://webexapis.com'\n",
    "teams_path = \"/v1/teams\"\n",
    "rooms_path = \"/v1/rooms\"\n",
    "msg_path = \"/v1/messages\"\n",
    "token = \"Bearer NWUyNTQ3YmUtNGJiNC00ODE0LWJlMzMtOGRmNmRlMzMzNzU5ZDk5MDU5YTgtYTEx_PF84_1eb65fdf-9643-417f-9974-ad72cae0e10f\"\n",
    "\n",
    "teams_url = f\"{host}{teams_path}\"\n",
    "rooms_url = f\"{host}{rooms_path}\"\n",
    "msg_url = f\"{host}{msg_path}\"\n",
    "\n",
    "headers = {\n",
    "    \"Authorization\": token,\n",
    "    \"Content-Type\": \"application/json\"\n",
    "}\n",
    "\n",
    "\n",
    "queries = pd.read_csv('testeponto.csv')\n",
    "\n",
    "queries.head()\n",
    "\n",
    "queries.shape\n",
    "\n",
    "processed_queries = []\n",
    "bot_replies = []\n",
    "\n",
    "\n",
    "\n",
    "for k, v in tqdm(queries[:1000].iterrows()):\n",
    "\n",
    "    # First send message to bot, row by row\n",
    "\n",
    "    msg_body = {\n",
    "        \"roomId\": 'Y2lzY29zcGFyazovL3VzL1JPT00vODMzZmIwMDAtOTVhZS0xMWVjLWJhYjUtOTc2MjkxMmZjOGVl',\n",
    "        \"text\": v['message send']\n",
    "    }\n",
    "\n",
    "    requests.post(msg_url, headers=headers, data=json.dumps(msg_body))\n",
    "\n",
    "    # Wait 5 seconds to give time for bot to reply\n",
    "    time.sleep(1)\n",
    "\n"
   ]
  },
  {
   "cell_type": "code",
   "execution_count": null,
   "id": "90910113",
   "metadata": {},
   "outputs": [],
   "source": []
  }
 ],
 "metadata": {
  "kernelspec": {
   "display_name": "Python 3",
   "language": "python",
   "name": "python3"
  },
  "language_info": {
   "codemirror_mode": {
    "name": "ipython",
    "version": 3
   },
   "file_extension": ".py",
   "mimetype": "text/x-python",
   "name": "python",
   "nbconvert_exporter": "python",
   "pygments_lexer": "ipython3",
   "version": "3.8.8"
  }
 },
 "nbformat": 4,
 "nbformat_minor": 5
}
